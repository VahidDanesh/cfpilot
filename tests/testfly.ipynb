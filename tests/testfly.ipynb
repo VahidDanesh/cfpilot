{
 "cells": [
  {
   "cell_type": "code",
   "execution_count": 1,
   "id": "60b7a45a",
   "metadata": {},
   "outputs": [
    {
     "name": "stdout",
     "output_type": "stream",
     "text": [
      "✅ Imports complete\n"
     ]
    }
   ],
   "source": [
    "%load_ext autoreload\n",
    "%autoreload 2\n",
    "\n",
    "import time\n",
    "import threading\n",
    "import logging\n",
    "from typing import Optional\n",
    "\n",
    "import cflib.crtp\n",
    "from cflib.crazyflie import Crazyflie\n",
    "from cflib.positioning.position_hl_commander import PositionHlCommander\n",
    "from cflib.positioning.motion_commander import MotionCommander\n",
    "from cflib.utils.multiranger import Multiranger\n",
    "\n",
    "from cfpilot.controller import CrazyflieController\n",
    "from cfpilot.controller import CrazyflieController\n",
    "\n",
    "\n",
    "# Setup logging to see output in notebook\n",
    "logging.basicConfig(\n",
    "    level=logging.INFO,\n",
    "    format='%(asctime)s - %(name)s - %(levelname)s - %(message)s'\n",
    ")\n",
    "logger = logging.getLogger(__name__)\n",
    "\n",
    "print(\"✅ Imports complete\")"
   ]
  },
  {
   "cell_type": "code",
   "execution_count": 19,
   "id": "a207cb06",
   "metadata": {},
   "outputs": [
    {
     "name": "stderr",
     "output_type": "stream",
     "text": [
      "2025-10-05 18:07:46,576 - cfpilot.detection - INFO - Landing pad detector initialized\n",
      "2025-10-05 18:07:46,577 - cfpilot.controller - INFO - Crazyflie Controller initialized (Async)\n",
      "2025-10-05 18:07:46,578 - cfpilot.controller - INFO - Connecting to radio://0/88/2M/E7E7E7E7F0\n",
      "2025-10-05 18:07:46,579 - cflib.crazyflie - INFO - Callback->Connection initialized[radio://0/88/2M/E7E7E7E7F0]\n"
     ]
    },
    {
     "name": "stderr",
     "output_type": "stream",
     "text": [
      "2025-10-05 18:07:46,863 - cflib.crazyflie - INFO - We are connected[radio://0/88/2M/E7E7E7E7F0], request connection setup\n",
      "2025-10-05 18:07:46,864 - cflib.crazyflie.platformservice - INFO - Request _request_protocol_version()\n",
      "2025-10-05 18:07:46,866 - cflib.crazyflie - INFO - Callback->Connected to [radio://0/88/2M/E7E7E7E7F0]\n",
      "2025-10-05 18:07:46,868 - cflib.crazyflie.log - WARNING - Error no LogEntry to handle id=1\n",
      "2025-10-05 18:07:46,869 - cflib.crazyflie.log - WARNING - Error no LogEntry to handle id=2\n",
      "2025-10-05 18:07:46,870 - cflib.crazyflie.platformservice - INFO - _crt_service_callback\n",
      "2025-10-05 18:07:46,870 - cflib.crazyflie.platformservice - INFO - Request protocol version\n",
      "2025-10-05 18:07:46,873 - cflib.crazyflie.platformservice - INFO - _platform_callback\n",
      "2025-10-05 18:07:46,874 - cflib.crazyflie.platformservice - INFO - Protocol version (platform): 10\n",
      "2025-10-05 18:07:46,888 - cflib.crazyflie.toc - INFO - TOC for port [5] found in cache\n",
      "2025-10-05 18:07:46,888 - cflib.crazyflie - INFO - Log TOC finished updating\n",
      "2025-10-05 18:07:46,892 - cflib.crazyflie.mem - INFO - 6 memories found\n",
      "2025-10-05 18:07:47,056 - cflib.crazyflie - INFO - Memories finished updating\n",
      "2025-10-05 18:07:47,066 - cflib.crazyflie.toc - INFO - TOC for port [2] found in cache\n",
      "2025-10-05 18:07:47,482 - cflib.crazyflie - INFO - Param TOC finished updating\n",
      "2025-10-05 18:07:47,482 - cflib.crazyflie - INFO - Callback->Connection setup finished [radio://0/88/2M/E7E7E7E7F0]\n",
      "2025-10-05 18:07:47,483 - cfpilot.controller - INFO - 🔌 Connected to radio://0/88/2M/E7E7E7E7F0 through callback\n",
      "2025-10-05 18:07:48,541 - cflib.crazyflie - INFO - All parameters updated\n",
      "2025-10-05 18:07:48,542 - cflib.crazyflie - INFO - Callback->Connection completed [radio://0/88/2M/E7E7E7E7F0]\n",
      "2025-10-05 18:07:48,641 - cfpilot.controller - INFO - ✅ Crazyflie setup completed\n",
      "2025-10-05 18:07:48,644 - cfpilot.controller - INFO - ✅ Async logging started.\n",
      "2025-10-05 18:07:48,644 - __main__ - INFO - ✅ Connected successfully!\n",
      "2025-10-05 18:07:48,651 - cflib.crazyflie.log - INFO - Have successfully started logging for id=1\n",
      "2025-10-05 18:07:48,652 - cflib.crazyflie.log - INFO - Have successfully started logging for id=2\n"
     ]
    }
   ],
   "source": [
    "controller = CrazyflieController(enable_plotting=False)\n",
    "config = controller.config\n",
    "# Initialize drivers\n",
    "cflib.crtp.init_drivers()\n",
    "\n",
    "# Connect to Crazyflie (will auto-detect or use config URI)\n",
    "uri = config['connection']['uri']\n",
    "controller.connect(uri)\n",
    "\n",
    "# Wait for connection\n",
    "if controller.wait_for_connection(timeout=10.0):\n",
    "    logger.info(\"✅ Connected successfully!\")\n",
    "else:\n",
    "    logger.error(\"❌ Connection failed!\")\n",
    "    raise Exception(\"Could not connect to Crazyflie\")"
   ]
  },
  {
   "cell_type": "code",
   "execution_count": 21,
   "id": "e5c7855b",
   "metadata": {},
   "outputs": [
    {
     "name": "stderr",
     "output_type": "stream",
     "text": [
      "2025-10-05 18:13:41,845 - __main__ - INFO - ✅ Multiranger started\n",
      "2025-10-05 18:13:41,846 - __main__ - INFO - 🚁 Taking off...\n",
      "2025-10-05 18:13:41,852 - cflib.crazyflie.log - INFO - Have successfully started logging for id=4\n"
     ]
    },
    {
     "name": "stderr",
     "output_type": "stream",
     "text": [
      "2025-10-05 18:13:57,447 - __main__ - INFO - 📍 Current position: (2.07, -0.03, 0.51), Deviate: 0.07\n",
      "2025-10-05 18:13:57,698 - __main__ - INFO - Moving back\n",
      "2025-10-05 18:13:57,798 - __main__ - INFO - 📍 Current position: (2.09, -0.03, 0.51), Deviate: 0.09\n",
      "2025-10-05 18:13:58,049 - __main__ - INFO - Moving back\n",
      "2025-10-05 18:14:01,651 - __main__ - INFO - 🛬 Landing...\n",
      "2025-10-05 18:14:01,652 - __main__ - INFO - 📍 Current position: (2.05, -0.03, 0.09)\n",
      "2025-10-05 18:14:01,752 - __main__ - INFO - 📍 Current position: (2.04, -0.02, 0.06)\n",
      "2025-10-05 18:14:01,853 - __main__ - INFO - 📍 Current position: (2.04, -0.02, 0.01)\n",
      "2025-10-05 18:14:01,954 - __main__ - INFO - 📍 Current position: (2.04, -0.02, 0.02)\n",
      "2025-10-05 18:14:02,055 - __main__ - INFO - 📍 Current position: (2.04, -0.00, 0.03)\n",
      "2025-10-05 18:14:02,155 - __main__ - INFO - 📍 Current position: (2.04, 0.01, 0.03)\n",
      "2025-10-05 18:14:02,256 - __main__ - INFO - 📍 Current position: (2.04, 0.01, 0.03)\n",
      "2025-10-05 18:14:02,357 - __main__ - INFO - 📍 Current position: (2.04, 0.02, 0.03)\n",
      "2025-10-05 18:14:02,457 - __main__ - INFO - 📍 Current position: (2.04, 0.02, 0.03)\n",
      "2025-10-05 18:14:02,558 - __main__ - INFO - 📍 Current position: (2.04, 0.02, 0.03)\n",
      "2025-10-05 18:14:02,659 - __main__ - INFO - 📍 Current position: (2.04, 0.02, 0.03)\n",
      "2025-10-05 18:14:02,759 - __main__ - INFO - 📍 Current position: (2.04, 0.02, 0.03)\n",
      "2025-10-05 18:14:02,860 - __main__ - INFO - 📍 Current position: (2.04, 0.02, 0.03)\n",
      "2025-10-05 18:14:02,961 - __main__ - INFO - 📍 Current position: (2.04, 0.02, 0.03)\n",
      "2025-10-05 18:14:03,061 - __main__ - INFO - 📍 Current position: (2.04, 0.02, 0.03)\n",
      "2025-10-05 18:14:03,162 - __main__ - INFO - 📍 Current position: (2.04, 0.02, 0.03)\n",
      "2025-10-05 18:14:03,263 - __main__ - INFO - 📍 Current position: (2.04, 0.02, 0.03)\n",
      "2025-10-05 18:14:03,363 - __main__ - INFO - 📍 Current position: (2.04, 0.02, 0.03)\n",
      "2025-10-05 18:14:03,464 - __main__ - INFO - 📍 Current position: (2.04, 0.02, 0.03)\n",
      "2025-10-05 18:14:03,565 - __main__ - INFO - 📍 Current position: (2.04, 0.02, 0.03)\n",
      "2025-10-05 18:14:03,666 - __main__ - INFO - 📍 Current position: (2.04, 0.02, 0.03)\n",
      "2025-10-05 18:14:03,766 - __main__ - INFO - 📍 Current position: (2.04, 0.02, 0.03)\n",
      "2025-10-05 18:14:03,867 - __main__ - INFO - 📍 Current position: (2.04, 0.02, 0.03)\n",
      "2025-10-05 18:14:03,968 - __main__ - INFO - 📍 Current position: (2.04, 0.02, 0.03)\n",
      "2025-10-05 18:14:04,068 - __main__ - INFO - 📍 Current position: (2.04, 0.02, 0.03)\n",
      "2025-10-05 18:14:04,169 - __main__ - INFO - 📍 Current position: (2.04, 0.02, 0.03)\n",
      "2025-10-05 18:14:04,270 - __main__ - INFO - 📍 Current position: (2.04, 0.02, 0.03)\n",
      "2025-10-05 18:14:04,370 - __main__ - INFO - 📍 Current position: (2.04, 0.02, 0.03)\n",
      "2025-10-05 18:14:04,472 - __main__ - INFO - 📍 Current position: (2.04, 0.02, 0.03)\n",
      "2025-10-05 18:14:04,573 - __main__ - INFO - 📍 Current position: (2.04, 0.02, 0.03)\n",
      "2025-10-05 18:14:04,680 - cflib.crazyflie.log - INFO - Have successfully deleted id=4\n",
      "2025-10-05 18:14:05,149 - cfpilot.controller - INFO - 🛜 Flight data saved to: /home/vahid/repos/crazyflie/cfpilot/logs/flight_log_20251005_181404.csv\n",
      "2025-10-05 18:14:05,149 - __main__ - INFO - ✅ Flight complete!\n"
     ]
    }
   ],
   "source": [
    "# Cell 4: Simple Test Flight\n",
    "\n",
    "try:\n",
    "    # Setup position commander\n",
    "    pc = PositionHlCommander(\n",
    "        controller.cf,\n",
    "        default_velocity=0.3,\n",
    "        default_height=0.5\n",
    "    )\n",
    "    mc = MotionCommander(\n",
    "        controller.cf,\n",
    "        default_height=0.5\n",
    "    )\n",
    "    \n",
    "    # Start multiranger for obstacle detection\n",
    "    multiranger = Multiranger(controller.cf)\n",
    "    multiranger.start()\n",
    "    logger.info(\"✅ Multiranger started\")\n",
    "    \n",
    "    # Takeoff\n",
    "    logger.info(\"🚁 Taking off...\")\n",
    "    height = 0.5\n",
    "    mc.take_off(height=height)\n",
    "    # pc.take_off(height=height)\n",
    "    time.sleep(1)\n",
    "\n",
    "    latest = controller.get_latest_data()\n",
    "    x = latest.get('stateEstimate.x', 0)\n",
    "    y = latest.get('stateEstimate.y', 0)\n",
    "    z = latest.get('stateEstimate.z', 0)\n",
    "\n",
    "    target_x = 2.0\n",
    "    mc.forward(2.0)\n",
    "\n",
    "\n",
    "    latest = controller.get_latest_data()\n",
    "    x = latest.get('stateEstimate.x', 0)\n",
    "    y = latest.get('stateEstimate.y', 0)\n",
    "    z = latest.get('stateEstimate.z', 0)\n",
    "\n",
    "    deviate = x - target_x\n",
    "\n",
    "    while abs(deviate) > 0.05:\n",
    "        logger.info(f\"📍 Current position: ({x:.2f}, {y:.2f}, {z:.2f}), Deviate: {deviate:.2f}\")\n",
    "        if deviate > 0:\n",
    "            mc.back(min(0.05, abs(deviate)))\n",
    "            logger.info(\"Moving back\")\n",
    "        else:\n",
    "            mc.forward(min(0.05, abs(deviate)))\n",
    "            logger.info(\"Moving forward\")\n",
    "\n",
    "        time.sleep(0.1)\n",
    "        latest = controller.get_latest_data()\n",
    "        x = latest.get('stateEstimate.x', 0)\n",
    "        y = latest.get('stateEstimate.y', 0)\n",
    "        z = latest.get('stateEstimate.z', 0)\n",
    "        deviate = x - target_x\n",
    "\n",
    "\n",
    "\n",
    "\n",
    "    time.sleep(1)\n",
    "    mc.land()\n",
    "    # Land\n",
    "    logger.info(\"🛬 Landing...\")\n",
    "    # pc.land()\n",
    "\n",
    "    current_time = time.time()\n",
    "    while time.time() - current_time < 3:\n",
    "        latest = controller.get_latest_data()\n",
    "    \n",
    "        logger.info(f\"📍 Current position: ({latest.get('stateEstimate.x', 0):.2f}, \"\n",
    "                   f\"{latest.get('stateEstimate.y', 0):.2f}, {latest.get('stateEstimate.z', 0):.2f})\")\n",
    "\n",
    "        time.sleep(0.1) \n",
    "    \n",
    "    # Stop multiranger\n",
    "    multiranger.stop()\n",
    "    controller.save_flight_data()\n",
    "    logger.info(\"✅ Flight complete!\")\n",
    "    \n",
    "except Exception as e:\n",
    "    logger.error(f\"❌ Error during flight: {e}\")\n",
    "    controller.emergency_shutdown()\n",
    "    raise"
   ]
  },
  {
   "cell_type": "code",
   "execution_count": 10,
   "id": "a3c498d9",
   "metadata": {},
   "outputs": [
    {
     "data": {
      "text/plain": [
       "{}"
      ]
     },
     "execution_count": 10,
     "metadata": {},
     "output_type": "execute_result"
    }
   ],
   "source": [
    "latest"
   ]
  }
 ],
 "metadata": {
  "kernelspec": {
   "display_name": "aerial",
   "language": "python",
   "name": "python3"
  },
  "language_info": {
   "codemirror_mode": {
    "name": "ipython",
    "version": 3
   },
   "file_extension": ".py",
   "mimetype": "text/x-python",
   "name": "python",
   "nbconvert_exporter": "python",
   "pygments_lexer": "ipython3",
   "version": "3.12.10"
  }
 },
 "nbformat": 4,
 "nbformat_minor": 5
}
